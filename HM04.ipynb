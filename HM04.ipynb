{
 "cells": [
  {
   "cell_type": "code",
   "execution_count": 130,
   "metadata": {},
   "outputs": [
    {
     "data": {
      "text/plain": [
       "'idammahoM niessoH'"
      ]
     },
     "execution_count": 130,
     "metadata": {},
     "output_type": "execute_result"
    }
   ],
   "source": [
    "# 1,1\n",
    "name = 'Hossein Mohammadi'\n",
    "name[-1::-1]\n",
    "# or\n",
    "name[::-1]"
   ]
  },
  {
   "cell_type": "code",
   "execution_count": 131,
   "metadata": {},
   "outputs": [
    {
     "data": {
      "text/plain": [
       "'idammahoM niessoH'"
      ]
     },
     "execution_count": 131,
     "metadata": {},
     "output_type": "execute_result"
    }
   ],
   "source": [
    "# 1,2\n",
    "s=''\n",
    "for char in name:\n",
    "    s=char + s\n",
    "s\n"
   ]
  },
  {
   "cell_type": "code",
   "execution_count": 133,
   "metadata": {},
   "outputs": [
    {
     "name": "stdout",
     "output_type": "stream",
     "text": [
      "0.0\n",
      "0.5\n",
      "1.0\n",
      "1.5\n",
      "2.0\n",
      "2.5\n",
      "3.0\n",
      "3.5\n",
      "4.0\n",
      "4.5\n",
      "5.0\n",
      "5.5\n",
      "6.0\n",
      "6.5\n",
      "7.0\n",
      "7.5\n"
     ]
    }
   ],
   "source": [
    "# 2\n",
    "a=int(input('Please Enter an integer Number : '))\n",
    "s=0\n",
    "for i in range(a+1):\n",
    "    s=s+i\n",
    "    avg = s /(i+1)\n",
    "    print(avg)"
   ]
  },
  {
   "cell_type": "code",
   "execution_count": 134,
   "metadata": {},
   "outputs": [
    {
     "name": "stdout",
     "output_type": "stream",
     "text": [
      "1\n",
      "2\n",
      "6\n",
      "24\n",
      "120\n",
      "720\n",
      "5040\n",
      "40320\n",
      "362880\n",
      "3628800\n",
      "39916800\n",
      "479001600\n",
      "6227020800\n",
      "87178291200\n",
      "1307674368000\n"
     ]
    }
   ],
   "source": [
    "# 3\n",
    "a = int(input('Please Enter an integer Number : '))\n",
    "m=1\n",
    "for i in range(1,a+1):\n",
    "    m=m*i\n",
    "    print(m)"
   ]
  },
  {
   "cell_type": "code",
   "execution_count": 32,
   "metadata": {},
   "outputs": [
    {
     "name": "stdout",
     "output_type": "stream",
     "text": [
      "[12, 16]\n",
      "['days', 'hours']\n"
     ]
    }
   ],
   "source": [
    "# 4\n",
    "a = 'days12hours16'\n",
    "a[a.find('hour')-2:a.find('hour')]\n",
    "a[-2:]\n",
    "num1=[int(a[a.find('hour')-2:a.find('hour')]),int(a[-2:])]\n",
    "print(num1)\n",
    "a[:a.find('12')]\n",
    "a[a.find('hour'):a.find('16')]\n",
    "char1=[a[:a.find('12')],a[a.find('hour'):a.find('16')]]\n",
    "print(char1)"
   ]
  },
  {
   "cell_type": "code",
   "execution_count": 38,
   "metadata": {},
   "outputs": [
    {
     "name": "stdout",
     "output_type": "stream",
     "text": [
      "1216\n",
      "dayshours\n"
     ]
    }
   ],
   "source": [
    "# 4\n",
    "a = 'days12hours16'\n",
    "s=''\n",
    "d=''\n",
    "for char in a:\n",
    "    if char.isdigit():\n",
    "        s = s + char\n",
    "    else:\n",
    "        d = d + char\n",
    "print(s)\n",
    "print(d)\n",
    "\n"
   ]
  },
  {
   "cell_type": "code",
   "execution_count": 44,
   "metadata": {},
   "outputs": [
    {
     "name": "stdout",
     "output_type": "stream",
     "text": [
      "3628800\n"
     ]
    }
   ],
   "source": [
    "# 5\n",
    "m=1\n",
    "for i in range(1,11):\n",
    "    a=int(input(f'please enter the number {i}'))\n",
    "    m=m*a\n",
    "print(m)    \n"
   ]
  },
  {
   "cell_type": "code",
   "execution_count": 141,
   "metadata": {},
   "outputs": [
    {
     "name": "stdout",
     "output_type": "stream",
     "text": [
      "****\n",
      "*\n",
      "*\n",
      "****\n",
      "*\n",
      "*\n",
      "****\n"
     ]
    }
   ],
   "source": [
    "# 6\n",
    "for i in range(7):\n",
    "    if i==0 or i==3 or i==6 :\n",
    "        print('*'*4)\n",
    "    else:\n",
    "        print('*')    "
   ]
  },
  {
   "cell_type": "code",
   "execution_count": 129,
   "metadata": {},
   "outputs": [
    {
     "name": "stdout",
     "output_type": "stream",
     "text": [
      "dcd\n",
      "ddfd\n",
      "dd\n",
      "ddfd\n",
      "dd\n",
      "fdfd\n",
      "q\n"
     ]
    }
   ],
   "source": [
    "# 7\n",
    "a='a'\n",
    "s=[]\n",
    "while a != 'q' :\n",
    "    a = input('Enter a word :')\n",
    "    s = s + [a] \n",
    "for i in range(len(s)):\n",
    "    print(s[i])"
   ]
  },
  {
   "cell_type": "code",
   "execution_count": 121,
   "metadata": {},
   "outputs": [
    {
     "name": "stdout",
     "output_type": "stream",
     "text": [
      "[10, 12, 9, 8, 16, 117, 5, 8, 19, 10]\n",
      "Max is :  117\n",
      "Min is :  5\n"
     ]
    }
   ],
   "source": [
    "# 8\n",
    "s=[]\n",
    "for i in range(1,11):\n",
    "    a = int(input(f'please enter the num {i}'))\n",
    "    s = s + [a]\n",
    "print(s)  \n",
    "# max\n",
    "for i in range(len(s)):\n",
    "    c=0\n",
    "    c1=0\n",
    "    for j in range(len(s)):\n",
    "        if s[i] > s[j] :\n",
    "            c=c+1\n",
    "            if c == (len(s)-1):\n",
    "                print('Max is : ',s[i])\n",
    "# Min\n",
    "    for j in range(len(s)):\n",
    "        if s[i] < s[j] :\n",
    "            c1=c1+1\n",
    "            if c1 == (len(s)-1):\n",
    "                print('Min is : ',s[i])\n",
    "                            \n",
    "\n"
   ]
  },
  {
   "cell_type": "code",
   "execution_count": 1,
   "metadata": {},
   "outputs": [
    {
     "data": {
      "text/plain": [
       "(14.0, -11.5)"
      ]
     },
     "execution_count": 1,
     "metadata": {},
     "output_type": "execute_result"
    }
   ],
   "source": [
    "# 8\n",
    "a = float (input('enter num :'))\n",
    "max_=a\n",
    "min_=a\n",
    "for _ in range(9):\n",
    "    a = float (input('enter num :'))\n",
    "    if a > max_:\n",
    "        max_=a\n",
    "    if a < min_ :\n",
    "        a = min_\n",
    "max_ , min_"
   ]
  }
 ],
 "metadata": {
  "kernelspec": {
   "display_name": "Python 3",
   "language": "python",
   "name": "python3"
  },
  "language_info": {
   "codemirror_mode": {
    "name": "ipython",
    "version": 3
   },
   "file_extension": ".py",
   "mimetype": "text/x-python",
   "name": "python",
   "nbconvert_exporter": "python",
   "pygments_lexer": "ipython3",
   "version": "3.10.7"
  }
 },
 "nbformat": 4,
 "nbformat_minor": 2
}
